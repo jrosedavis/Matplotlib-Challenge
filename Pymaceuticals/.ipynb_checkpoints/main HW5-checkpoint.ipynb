{
 "cells": [
  {
   "cell_type": "markdown",
   "metadata": {},
   "source": [
    "Observations and Insights"
   ]
  },
  {
   "cell_type": "code",
   "execution_count": 1,
   "metadata": {},
   "outputs": [],
   "source": [
    "%matplotlib inline"
   ]
  },
  {
   "cell_type": "code",
   "execution_count": 2,
   "metadata": {},
   "outputs": [
    {
     "data": {
      "text/html": [
       "<div>\n",
       "<style scoped>\n",
       "    .dataframe tbody tr th:only-of-type {\n",
       "        vertical-align: middle;\n",
       "    }\n",
       "\n",
       "    .dataframe tbody tr th {\n",
       "        vertical-align: top;\n",
       "    }\n",
       "\n",
       "    .dataframe thead th {\n",
       "        text-align: right;\n",
       "    }\n",
       "</style>\n",
       "<table border=\"1\" class=\"dataframe\">\n",
       "  <thead>\n",
       "    <tr style=\"text-align: right;\">\n",
       "      <th></th>\n",
       "      <th>Mouse ID</th>\n",
       "      <th>Drug Regimen</th>\n",
       "      <th>Sex</th>\n",
       "      <th>Age_months</th>\n",
       "      <th>Weight (g)</th>\n",
       "      <th>Timepoint</th>\n",
       "      <th>Tumor Volume (mm3)</th>\n",
       "      <th>Metastatic Sites</th>\n",
       "    </tr>\n",
       "  </thead>\n",
       "  <tbody>\n",
       "    <tr>\n",
       "      <th>0</th>\n",
       "      <td>k403</td>\n",
       "      <td>Ramicane</td>\n",
       "      <td>Male</td>\n",
       "      <td>21</td>\n",
       "      <td>16</td>\n",
       "      <td>0</td>\n",
       "      <td>45.000000</td>\n",
       "      <td>0</td>\n",
       "    </tr>\n",
       "    <tr>\n",
       "      <th>1</th>\n",
       "      <td>k403</td>\n",
       "      <td>Ramicane</td>\n",
       "      <td>Male</td>\n",
       "      <td>21</td>\n",
       "      <td>16</td>\n",
       "      <td>5</td>\n",
       "      <td>38.825898</td>\n",
       "      <td>0</td>\n",
       "    </tr>\n",
       "    <tr>\n",
       "      <th>2</th>\n",
       "      <td>k403</td>\n",
       "      <td>Ramicane</td>\n",
       "      <td>Male</td>\n",
       "      <td>21</td>\n",
       "      <td>16</td>\n",
       "      <td>10</td>\n",
       "      <td>35.014271</td>\n",
       "      <td>1</td>\n",
       "    </tr>\n",
       "    <tr>\n",
       "      <th>3</th>\n",
       "      <td>k403</td>\n",
       "      <td>Ramicane</td>\n",
       "      <td>Male</td>\n",
       "      <td>21</td>\n",
       "      <td>16</td>\n",
       "      <td>15</td>\n",
       "      <td>34.223992</td>\n",
       "      <td>1</td>\n",
       "    </tr>\n",
       "    <tr>\n",
       "      <th>4</th>\n",
       "      <td>k403</td>\n",
       "      <td>Ramicane</td>\n",
       "      <td>Male</td>\n",
       "      <td>21</td>\n",
       "      <td>16</td>\n",
       "      <td>20</td>\n",
       "      <td>32.997729</td>\n",
       "      <td>1</td>\n",
       "    </tr>\n",
       "  </tbody>\n",
       "</table>\n",
       "</div>"
      ],
      "text/plain": [
       "  Mouse ID Drug Regimen   Sex  Age_months  Weight (g)  Timepoint  \\\n",
       "0     k403     Ramicane  Male          21          16          0   \n",
       "1     k403     Ramicane  Male          21          16          5   \n",
       "2     k403     Ramicane  Male          21          16         10   \n",
       "3     k403     Ramicane  Male          21          16         15   \n",
       "4     k403     Ramicane  Male          21          16         20   \n",
       "\n",
       "   Tumor Volume (mm3)  Metastatic Sites  \n",
       "0           45.000000                 0  \n",
       "1           38.825898                 0  \n",
       "2           35.014271                 1  \n",
       "3           34.223992                 1  \n",
       "4           32.997729                 1  "
      ]
     },
     "execution_count": 2,
     "metadata": {},
     "output_type": "execute_result"
    }
   ],
   "source": [
    "# Dependencies and Setup\n",
    "import matplotlib.pyplot as plt\n",
    "import pandas as pd\n",
    "import scipy.stats as st\n",
    "import numpy as np\n",
    "from scipy.stats import linregress\n",
    "from sklearn import datasets\n",
    "\n",
    "# Study data files\n",
    "mouse_metadata_path = \"data/Mouse_metadata.csv\"\n",
    "study_results_path = \"data/Study_results.csv\"\n",
    "\n",
    "# Read the mouse data and the study results\n",
    "mouse_metadata = pd.read_csv(mouse_metadata_path)\n",
    "study_results = pd.read_csv(study_results_path)\n",
    "\n",
    "# Combine the data into a single dataset\n",
    "study_df = pd.merge(mouse_metadata, study_results, on=\"Mouse ID\", how=\"outer\")\n",
    "\n",
    "# Display the data table for preview\n",
    "study_df.head()"
   ]
  },
  {
   "cell_type": "code",
   "execution_count": 3,
   "metadata": {},
   "outputs": [
    {
     "data": {
      "text/plain": [
       "249"
      ]
     },
     "execution_count": 3,
     "metadata": {},
     "output_type": "execute_result"
    }
   ],
   "source": [
    "#Checking the number of mice.\n",
    "len(study_df[\"Mouse ID\"].unique())"
   ]
  },
  {
   "cell_type": "code",
   "execution_count": 4,
   "metadata": {},
   "outputs": [
    {
     "data": {
      "text/plain": [
       "g989    5\n",
       "Name: Mouse ID, dtype: int64"
      ]
     },
     "execution_count": 4,
     "metadata": {},
     "output_type": "execute_result"
    }
   ],
   "source": [
    "#Getting the duplicate mice by ID number that shows up for Mouse ID and Timepoint. \n",
    "duplicate_mice = study_df[study_df.duplicated([\"Mouse ID\", \"Timepoint\"])]\n",
    "duplicate_mice[\"Mouse ID\"].value_counts()"
   ]
  },
  {
   "cell_type": "code",
   "execution_count": 5,
   "metadata": {},
   "outputs": [
    {
     "data": {
      "text/plain": [
       "array(['g989'], dtype=object)"
      ]
     },
     "execution_count": 5,
     "metadata": {},
     "output_type": "execute_result"
    }
   ],
   "source": [
    "# Optional: Get all the data for the duplicate mouse ID. \n",
    "duplicate_mice.loc[:, \"Mouse ID\"].unique()"
   ]
  },
  {
   "cell_type": "code",
   "execution_count": 6,
   "metadata": {},
   "outputs": [
    {
     "data": {
      "text/html": [
       "<div>\n",
       "<style scoped>\n",
       "    .dataframe tbody tr th:only-of-type {\n",
       "        vertical-align: middle;\n",
       "    }\n",
       "\n",
       "    .dataframe tbody tr th {\n",
       "        vertical-align: top;\n",
       "    }\n",
       "\n",
       "    .dataframe thead th {\n",
       "        text-align: right;\n",
       "    }\n",
       "</style>\n",
       "<table border=\"1\" class=\"dataframe\">\n",
       "  <thead>\n",
       "    <tr style=\"text-align: right;\">\n",
       "      <th></th>\n",
       "      <th>Mouse ID</th>\n",
       "      <th>Drug Regimen</th>\n",
       "      <th>Sex</th>\n",
       "      <th>Age_months</th>\n",
       "      <th>Weight (g)</th>\n",
       "      <th>Timepoint</th>\n",
       "      <th>Tumor Volume (mm3)</th>\n",
       "      <th>Metastatic Sites</th>\n",
       "    </tr>\n",
       "  </thead>\n",
       "  <tbody>\n",
       "    <tr>\n",
       "      <th>0</th>\n",
       "      <td>k403</td>\n",
       "      <td>Ramicane</td>\n",
       "      <td>Male</td>\n",
       "      <td>21</td>\n",
       "      <td>16</td>\n",
       "      <td>0</td>\n",
       "      <td>45.000000</td>\n",
       "      <td>0</td>\n",
       "    </tr>\n",
       "    <tr>\n",
       "      <th>1</th>\n",
       "      <td>k403</td>\n",
       "      <td>Ramicane</td>\n",
       "      <td>Male</td>\n",
       "      <td>21</td>\n",
       "      <td>16</td>\n",
       "      <td>5</td>\n",
       "      <td>38.825898</td>\n",
       "      <td>0</td>\n",
       "    </tr>\n",
       "    <tr>\n",
       "      <th>2</th>\n",
       "      <td>k403</td>\n",
       "      <td>Ramicane</td>\n",
       "      <td>Male</td>\n",
       "      <td>21</td>\n",
       "      <td>16</td>\n",
       "      <td>10</td>\n",
       "      <td>35.014271</td>\n",
       "      <td>1</td>\n",
       "    </tr>\n",
       "    <tr>\n",
       "      <th>3</th>\n",
       "      <td>k403</td>\n",
       "      <td>Ramicane</td>\n",
       "      <td>Male</td>\n",
       "      <td>21</td>\n",
       "      <td>16</td>\n",
       "      <td>15</td>\n",
       "      <td>34.223992</td>\n",
       "      <td>1</td>\n",
       "    </tr>\n",
       "    <tr>\n",
       "      <th>4</th>\n",
       "      <td>k403</td>\n",
       "      <td>Ramicane</td>\n",
       "      <td>Male</td>\n",
       "      <td>21</td>\n",
       "      <td>16</td>\n",
       "      <td>20</td>\n",
       "      <td>32.997729</td>\n",
       "      <td>1</td>\n",
       "    </tr>\n",
       "  </tbody>\n",
       "</table>\n",
       "</div>"
      ],
      "text/plain": [
       "  Mouse ID Drug Regimen   Sex  Age_months  Weight (g)  Timepoint  \\\n",
       "0     k403     Ramicane  Male          21          16          0   \n",
       "1     k403     Ramicane  Male          21          16          5   \n",
       "2     k403     Ramicane  Male          21          16         10   \n",
       "3     k403     Ramicane  Male          21          16         15   \n",
       "4     k403     Ramicane  Male          21          16         20   \n",
       "\n",
       "   Tumor Volume (mm3)  Metastatic Sites  \n",
       "0           45.000000                 0  \n",
       "1           38.825898                 0  \n",
       "2           35.014271                 1  \n",
       "3           34.223992                 1  \n",
       "4           32.997729                 1  "
      ]
     },
     "execution_count": 6,
     "metadata": {},
     "output_type": "execute_result"
    }
   ],
   "source": [
    "# Create a clean DataFrame by dropping the duplicate mouse by its ID.\n",
    "clean_df = study_df.loc[study_df['Mouse ID'] != 'g989']\n",
    "clean_df.head()"
   ]
  },
  {
   "cell_type": "code",
   "execution_count": 7,
   "metadata": {},
   "outputs": [
    {
     "data": {
      "text/plain": [
       "248"
      ]
     },
     "execution_count": 7,
     "metadata": {},
     "output_type": "execute_result"
    }
   ],
   "source": [
    "# Checking the number of mice in the clean DataFrame to ensure offending mouse was removed\n",
    "len(clean_df[\"Mouse ID\"].unique())"
   ]
  },
  {
   "cell_type": "markdown",
   "metadata": {},
   "source": [
    "Summary Statistics"
   ]
  },
  {
   "cell_type": "markdown",
   "metadata": {},
   "source": [
    "Generate a summary statistics table of mean, median, variance, standard deviation, and SEM of the tumor volume for each regimen."
   ]
  },
  {
   "cell_type": "code",
   "execution_count": 8,
   "metadata": {},
   "outputs": [
    {
     "data": {
      "text/html": [
       "<style  type=\"text/css\" >\n",
       "</style><table id=\"T_b033a_\" ><thead>    <tr>        <th class=\"blank level0\" ></th>        <th class=\"col_heading level0 col0\" >Mean</th>        <th class=\"col_heading level0 col1\" >Median</th>        <th class=\"col_heading level0 col2\" >Variance</th>        <th class=\"col_heading level0 col3\" >Stdv</th>        <th class=\"col_heading level0 col4\" >SEM</th>    </tr>    <tr>        <th class=\"index_name level0\" >Drug Regimen</th>        <th class=\"blank\" ></th>        <th class=\"blank\" ></th>        <th class=\"blank\" ></th>        <th class=\"blank\" ></th>        <th class=\"blank\" ></th>    </tr></thead><tbody>\n",
       "                <tr>\n",
       "                        <th id=\"T_b033a_level0_row0\" class=\"row_heading level0 row0\" >Capomulin</th>\n",
       "                        <td id=\"T_b033a_row0_col0\" class=\"data row0 col0\" >40.676</td>\n",
       "                        <td id=\"T_b033a_row0_col1\" class=\"data row0 col1\" >41.558</td>\n",
       "                        <td id=\"T_b033a_row0_col2\" class=\"data row0 col2\" >24.948</td>\n",
       "                        <td id=\"T_b033a_row0_col3\" class=\"data row0 col3\" >4.995</td>\n",
       "                        <td id=\"T_b033a_row0_col4\" class=\"data row0 col4\" >0.329</td>\n",
       "            </tr>\n",
       "            <tr>\n",
       "                        <th id=\"T_b033a_level0_row1\" class=\"row_heading level0 row1\" >Ceftamin</th>\n",
       "                        <td id=\"T_b033a_row1_col0\" class=\"data row1 col0\" >52.591</td>\n",
       "                        <td id=\"T_b033a_row1_col1\" class=\"data row1 col1\" >51.776</td>\n",
       "                        <td id=\"T_b033a_row1_col2\" class=\"data row1 col2\" >39.290</td>\n",
       "                        <td id=\"T_b033a_row1_col3\" class=\"data row1 col3\" >6.268</td>\n",
       "                        <td id=\"T_b033a_row1_col4\" class=\"data row1 col4\" >0.470</td>\n",
       "            </tr>\n",
       "            <tr>\n",
       "                        <th id=\"T_b033a_level0_row2\" class=\"row_heading level0 row2\" >Infubinol</th>\n",
       "                        <td id=\"T_b033a_row2_col0\" class=\"data row2 col0\" >52.885</td>\n",
       "                        <td id=\"T_b033a_row2_col1\" class=\"data row2 col1\" >51.821</td>\n",
       "                        <td id=\"T_b033a_row2_col2\" class=\"data row2 col2\" >43.129</td>\n",
       "                        <td id=\"T_b033a_row2_col3\" class=\"data row2 col3\" >6.567</td>\n",
       "                        <td id=\"T_b033a_row2_col4\" class=\"data row2 col4\" >0.492</td>\n",
       "            </tr>\n",
       "            <tr>\n",
       "                        <th id=\"T_b033a_level0_row3\" class=\"row_heading level0 row3\" >Ketapril</th>\n",
       "                        <td id=\"T_b033a_row3_col0\" class=\"data row3 col0\" >55.236</td>\n",
       "                        <td id=\"T_b033a_row3_col1\" class=\"data row3 col1\" >53.699</td>\n",
       "                        <td id=\"T_b033a_row3_col2\" class=\"data row3 col2\" >68.554</td>\n",
       "                        <td id=\"T_b033a_row3_col3\" class=\"data row3 col3\" >8.280</td>\n",
       "                        <td id=\"T_b033a_row3_col4\" class=\"data row3 col4\" >0.604</td>\n",
       "            </tr>\n",
       "            <tr>\n",
       "                        <th id=\"T_b033a_level0_row4\" class=\"row_heading level0 row4\" >Naftisol</th>\n",
       "                        <td id=\"T_b033a_row4_col0\" class=\"data row4 col0\" >54.332</td>\n",
       "                        <td id=\"T_b033a_row4_col1\" class=\"data row4 col1\" >52.509</td>\n",
       "                        <td id=\"T_b033a_row4_col2\" class=\"data row4 col2\" >66.173</td>\n",
       "                        <td id=\"T_b033a_row4_col3\" class=\"data row4 col3\" >8.135</td>\n",
       "                        <td id=\"T_b033a_row4_col4\" class=\"data row4 col4\" >0.596</td>\n",
       "            </tr>\n",
       "            <tr>\n",
       "                        <th id=\"T_b033a_level0_row5\" class=\"row_heading level0 row5\" >Placebo</th>\n",
       "                        <td id=\"T_b033a_row5_col0\" class=\"data row5 col0\" >54.034</td>\n",
       "                        <td id=\"T_b033a_row5_col1\" class=\"data row5 col1\" >52.289</td>\n",
       "                        <td id=\"T_b033a_row5_col2\" class=\"data row5 col2\" >61.168</td>\n",
       "                        <td id=\"T_b033a_row5_col3\" class=\"data row5 col3\" >7.821</td>\n",
       "                        <td id=\"T_b033a_row5_col4\" class=\"data row5 col4\" >0.581</td>\n",
       "            </tr>\n",
       "            <tr>\n",
       "                        <th id=\"T_b033a_level0_row6\" class=\"row_heading level0 row6\" >Propriva</th>\n",
       "                        <td id=\"T_b033a_row6_col0\" class=\"data row6 col0\" >52.321</td>\n",
       "                        <td id=\"T_b033a_row6_col1\" class=\"data row6 col1\" >50.446</td>\n",
       "                        <td id=\"T_b033a_row6_col2\" class=\"data row6 col2\" >43.852</td>\n",
       "                        <td id=\"T_b033a_row6_col3\" class=\"data row6 col3\" >6.622</td>\n",
       "                        <td id=\"T_b033a_row6_col4\" class=\"data row6 col4\" >0.544</td>\n",
       "            </tr>\n",
       "            <tr>\n",
       "                        <th id=\"T_b033a_level0_row7\" class=\"row_heading level0 row7\" >Ramicane</th>\n",
       "                        <td id=\"T_b033a_row7_col0\" class=\"data row7 col0\" >40.217</td>\n",
       "                        <td id=\"T_b033a_row7_col1\" class=\"data row7 col1\" >40.673</td>\n",
       "                        <td id=\"T_b033a_row7_col2\" class=\"data row7 col2\" >23.487</td>\n",
       "                        <td id=\"T_b033a_row7_col3\" class=\"data row7 col3\" >4.846</td>\n",
       "                        <td id=\"T_b033a_row7_col4\" class=\"data row7 col4\" >0.321</td>\n",
       "            </tr>\n",
       "            <tr>\n",
       "                        <th id=\"T_b033a_level0_row8\" class=\"row_heading level0 row8\" >Stelasyn</th>\n",
       "                        <td id=\"T_b033a_row8_col0\" class=\"data row8 col0\" >54.233</td>\n",
       "                        <td id=\"T_b033a_row8_col1\" class=\"data row8 col1\" >52.432</td>\n",
       "                        <td id=\"T_b033a_row8_col2\" class=\"data row8 col2\" >59.451</td>\n",
       "                        <td id=\"T_b033a_row8_col3\" class=\"data row8 col3\" >7.710</td>\n",
       "                        <td id=\"T_b033a_row8_col4\" class=\"data row8 col4\" >0.573</td>\n",
       "            </tr>\n",
       "            <tr>\n",
       "                        <th id=\"T_b033a_level0_row9\" class=\"row_heading level0 row9\" >Zoniferol</th>\n",
       "                        <td id=\"T_b033a_row9_col0\" class=\"data row9 col0\" >53.237</td>\n",
       "                        <td id=\"T_b033a_row9_col1\" class=\"data row9 col1\" >51.818</td>\n",
       "                        <td id=\"T_b033a_row9_col2\" class=\"data row9 col2\" >48.533</td>\n",
       "                        <td id=\"T_b033a_row9_col3\" class=\"data row9 col3\" >6.967</td>\n",
       "                        <td id=\"T_b033a_row9_col4\" class=\"data row9 col4\" >0.516</td>\n",
       "            </tr>\n",
       "    </tbody></table>"
      ],
      "text/plain": [
       "<pandas.io.formats.style.Styler at 0x2c001c2dd90>"
      ]
     },
     "execution_count": 8,
     "metadata": {},
     "output_type": "execute_result"
    }
   ],
   "source": [
    "#Filter cleaned data frame by 'Drug Regimen' column\n",
    "clean_df.loc[:, 'Drug Regimen'].unique()\n",
    "\n",
    "# Use groupby and summary statistical methods to calculate the following properties of each drug regimen: \n",
    "\n",
    "grouped_DR = clean_df.groupby(['Drug Regimen']) \n",
    "\n",
    "# mean, median, variance, standard deviation, and SEM of the tumor volume\n",
    "\n",
    "mean_numpy = grouped_DR['Tumor Volume (mm3)'].mean()\n",
    "median_numpy = grouped_DR['Tumor Volume (mm3)'].median()\n",
    "var_numpy = grouped_DR['Tumor Volume (mm3)'].var()\n",
    "std_numpy = grouped_DR['Tumor Volume (mm3)'].std()\n",
    "sem_numpy = grouped_DR['Tumor Volume (mm3)'].sem()\n",
    "\n",
    "# Assemble the resulting series into a single summary dataframe.\n",
    "data1 = {\n",
    "    'Mean': mean_numpy,\n",
    "    'Median': median_numpy,\n",
    "    'Variance': var_numpy,\n",
    "    'Stdv': std_numpy,\n",
    "    'SEM': sem_numpy\n",
    "}\n",
    "\n",
    "summary1 = pd.DataFrame(data1)\n",
    "summary1\n",
    "\n",
    "format_dict = {'Mean':'{0:,.3f}', 'Median': '{:,.3f}', 'Variance': '{:,.3f}', 'Stdv': '{:,.3f}', 'SEM': '{:,.3f}'}\n",
    "summary1.style.format(format_dict)\n"
   ]
  },
  {
   "cell_type": "code",
   "execution_count": 9,
   "metadata": {},
   "outputs": [
    {
     "data": {
      "text/html": [
       "<div>\n",
       "<style scoped>\n",
       "    .dataframe tbody tr th:only-of-type {\n",
       "        vertical-align: middle;\n",
       "    }\n",
       "\n",
       "    .dataframe tbody tr th {\n",
       "        vertical-align: top;\n",
       "    }\n",
       "\n",
       "    .dataframe thead th {\n",
       "        text-align: right;\n",
       "    }\n",
       "</style>\n",
       "<table border=\"1\" class=\"dataframe\">\n",
       "  <thead>\n",
       "    <tr style=\"text-align: right;\">\n",
       "      <th></th>\n",
       "      <th>mean</th>\n",
       "      <th>median</th>\n",
       "      <th>var</th>\n",
       "      <th>std</th>\n",
       "      <th>sem</th>\n",
       "    </tr>\n",
       "    <tr>\n",
       "      <th>Drug Regimen</th>\n",
       "      <th></th>\n",
       "      <th></th>\n",
       "      <th></th>\n",
       "      <th></th>\n",
       "      <th></th>\n",
       "    </tr>\n",
       "  </thead>\n",
       "  <tbody>\n",
       "    <tr>\n",
       "      <th>Capomulin</th>\n",
       "      <td>40.675741</td>\n",
       "      <td>41.557809</td>\n",
       "      <td>24.947764</td>\n",
       "      <td>4.994774</td>\n",
       "      <td>0.329346</td>\n",
       "    </tr>\n",
       "    <tr>\n",
       "      <th>Ceftamin</th>\n",
       "      <td>52.591172</td>\n",
       "      <td>51.776157</td>\n",
       "      <td>39.290177</td>\n",
       "      <td>6.268188</td>\n",
       "      <td>0.469821</td>\n",
       "    </tr>\n",
       "    <tr>\n",
       "      <th>Infubinol</th>\n",
       "      <td>52.884795</td>\n",
       "      <td>51.820584</td>\n",
       "      <td>43.128684</td>\n",
       "      <td>6.567243</td>\n",
       "      <td>0.492236</td>\n",
       "    </tr>\n",
       "    <tr>\n",
       "      <th>Ketapril</th>\n",
       "      <td>55.235638</td>\n",
       "      <td>53.698743</td>\n",
       "      <td>68.553577</td>\n",
       "      <td>8.279709</td>\n",
       "      <td>0.603860</td>\n",
       "    </tr>\n",
       "    <tr>\n",
       "      <th>Naftisol</th>\n",
       "      <td>54.331565</td>\n",
       "      <td>52.509285</td>\n",
       "      <td>66.173479</td>\n",
       "      <td>8.134708</td>\n",
       "      <td>0.596466</td>\n",
       "    </tr>\n",
       "    <tr>\n",
       "      <th>Placebo</th>\n",
       "      <td>54.033581</td>\n",
       "      <td>52.288934</td>\n",
       "      <td>61.168083</td>\n",
       "      <td>7.821003</td>\n",
       "      <td>0.581331</td>\n",
       "    </tr>\n",
       "    <tr>\n",
       "      <th>Propriva</th>\n",
       "      <td>52.320930</td>\n",
       "      <td>50.446266</td>\n",
       "      <td>43.852013</td>\n",
       "      <td>6.622085</td>\n",
       "      <td>0.544332</td>\n",
       "    </tr>\n",
       "    <tr>\n",
       "      <th>Ramicane</th>\n",
       "      <td>40.216745</td>\n",
       "      <td>40.673236</td>\n",
       "      <td>23.486704</td>\n",
       "      <td>4.846308</td>\n",
       "      <td>0.320955</td>\n",
       "    </tr>\n",
       "    <tr>\n",
       "      <th>Stelasyn</th>\n",
       "      <td>54.233149</td>\n",
       "      <td>52.431737</td>\n",
       "      <td>59.450562</td>\n",
       "      <td>7.710419</td>\n",
       "      <td>0.573111</td>\n",
       "    </tr>\n",
       "    <tr>\n",
       "      <th>Zoniferol</th>\n",
       "      <td>53.236507</td>\n",
       "      <td>51.818479</td>\n",
       "      <td>48.533355</td>\n",
       "      <td>6.966589</td>\n",
       "      <td>0.516398</td>\n",
       "    </tr>\n",
       "  </tbody>\n",
       "</table>\n",
       "</div>"
      ],
      "text/plain": [
       "                   mean     median        var       std       sem\n",
       "Drug Regimen                                                     \n",
       "Capomulin     40.675741  41.557809  24.947764  4.994774  0.329346\n",
       "Ceftamin      52.591172  51.776157  39.290177  6.268188  0.469821\n",
       "Infubinol     52.884795  51.820584  43.128684  6.567243  0.492236\n",
       "Ketapril      55.235638  53.698743  68.553577  8.279709  0.603860\n",
       "Naftisol      54.331565  52.509285  66.173479  8.134708  0.596466\n",
       "Placebo       54.033581  52.288934  61.168083  7.821003  0.581331\n",
       "Propriva      52.320930  50.446266  43.852013  6.622085  0.544332\n",
       "Ramicane      40.216745  40.673236  23.486704  4.846308  0.320955\n",
       "Stelasyn      54.233149  52.431737  59.450562  7.710419  0.573111\n",
       "Zoniferol     53.236507  51.818479  48.533355  6.966589  0.516398"
      ]
     },
     "execution_count": 9,
     "metadata": {},
     "output_type": "execute_result"
    }
   ],
   "source": [
    "#Using the aggregation method, produce the same summary statistics in a single line\n",
    "grouped_DR = clean_df.groupby('Drug Regimen')['Tumor Volume (mm3)'].aggregate([np.mean, np.median, np.var, np.std, 'sem'])\n",
    "grouped_DR"
   ]
  },
  {
   "cell_type": "markdown",
   "metadata": {},
   "source": [
    "Bar and Pie Charts"
   ]
  },
  {
   "cell_type": "markdown",
   "metadata": {},
   "source": [
    "Generate a bar plot showing the total number of measurements taken on each drug regimen using pandas."
   ]
  },
  {
   "cell_type": "code",
   "execution_count": 10,
   "metadata": {},
   "outputs": [
    {
     "data": {
      "image/png": "[encoded data removed]",
      "text/plain": [
       "<Figure size 432x288 with 1 Axes>"
      ]
     },
     "metadata": {
      "needs_background": "light"
     },
     "output_type": "display_data"
    }
   ],
   "source": [
    "#Use the group by method on the values in 'Drug Regimen'\n",
    "grouped_DR = clean_df.groupby('Drug Regimen')\n",
    "\n",
    "#Find the count\n",
    "count_DR = grouped_DR['Drug Regimen'].count()\n",
    "\n",
    "#Create a bar chart based off of the the group series from count_DR\n",
    "panda_chart = count_DR.plot(kind='bar')\n",
    "panda_chart.set_xlabel(\"Drug Regimen\")\n",
    "panda_chart.set_ylabel(\"Total Number of Measurements\")\n",
    "plt.title(\"Total Number of Drug Regimen Treatments\")\n",
    "plt.tight_layout()\n",
    "plt.savefig(\"../Images/BarChartPandas.png\")\n",
    "plt.show()"
   ]
  },
  {
   "cell_type": "markdown",
   "metadata": {},
   "source": [
    "Generate a bar plot showing the total number of measurements taken on each drug regimen using pyplot."
   ]
  },
  {
   "cell_type": "code",
   "execution_count": 11,
   "metadata": {},
   "outputs": [
    {
     "data": {
      "image/png": "[encoded data removed]",
      "text/plain": [
       "<Figure size 432x288 with 1 Axes>"
      ]
     },
     "metadata": {
      "needs_background": "light"
     },
     "output_type": "display_data"
    }
   ],
   "source": [
    "#Create a grouped based on the values in 'Drug Regimen'\n",
    "DR_group = clean_df.groupby('Drug Regimen')\n",
    "\n",
    "#Find the count as the y-axis and set the x-axis range by lenghth of total count of the column 'Drug Regimen'\n",
    "total_DR = DR_group['Drug Regimen'].count()\n",
    "x_axis = np.arange(len(total_DR))\n",
    "\n",
    "#Generate a bar plot using Pyplot\n",
    "plt.figure(figsize=(6,4))\n",
    "plt.bar(x_axis, total_DR, color='g', alpha=0.5, align=\"center\")\n",
    "\n",
    "# Tell matplotlib where we would like to place each of our x axis headers using list comprehension\n",
    "tick_locations = [value for value in x_axis]\n",
    "plt.xticks(tick_locations, [\"Capomulin\", \"Ceftamin\", \"Infubinol\", \"Ketapril\", \"Naftisol\", \"Placebo\", \"Propriva\", \"Ramicane\", \"Stelasyn\", \"Zoniferol\"], rotation=\"vertical\")\n",
    "\n",
    "# Set a Title and labels\n",
    "plt.title(\"Total Number of Drug Regimen Treatments\")\n",
    "plt.xlabel(\"Drug Regimen\")\n",
    "plt.ylabel(\"Total Number of Measurements\")\n",
    "plt.tight_layout()\n",
    "plt.savefig(\"../Images/BarChartPyPlot.png\")\n",
    "plt.show()"
   ]
  },
  {
   "cell_type": "markdown",
   "metadata": {},
   "source": [
    "Generate a pie plot showing the distribution of female versus male mice using pandas."
   ]
  },
  {
   "cell_type": "code",
   "execution_count": 12,
   "metadata": {},
   "outputs": [
    {
     "data": {
      "image/png": "[encoded data removed]",
      "text/plain": [
       "<Figure size 360x216 with 1 Axes>"
      ]
     },
     "metadata": {},
     "output_type": "display_data"
    }
   ],
   "source": [
    "#Find the count\n",
    "count_gen = clean_df['Sex'].value_counts()\n",
    "\n",
    "#Plot on pie chart using pandas \n",
    "panda_chartpie=count_gen.plot(kind='pie', subplots=True, shadow=True, figsize=(5,3), autopct='%1.1f%%')\n",
    "plt.title(\"Female vs Male Mice\")\n",
    "plt.savefig(\"../Images/PieChartPandas.png\")\n",
    "plt.show()"
   ]
  },
  {
   "cell_type": "markdown",
   "metadata": {},
   "source": [
    "Generate a pie plot showing the distribution of female versus male mice using pyplot."
   ]
  },
  {
   "cell_type": "code",
   "execution_count": 13,
   "metadata": {},
   "outputs": [
    {
     "data": {
      "image/png": "[encoded data removed]",
      "text/plain": [
       "<Figure size 432x288 with 1 Axes>"
      ]
     },
     "metadata": {},
     "output_type": "display_data"
    }
   ],
   "source": [
    "#Find the count\n",
    "count_gen = clean_df['Sex'].value_counts()\n",
    "\n",
    "#Isolate total count for female vs males in single variable\n",
    "count_m = clean_df.loc[clean_df['Sex'] == \"Male\"]\n",
    "#print(len(count_m.value_counts()))\n",
    "count_f = clean_df.loc[clean_df['Sex'] == \"Female\"]\n",
    "#print(len(count_f.value_counts()))\n",
    "\n",
    "#Labels for the sections of our pie chart\n",
    "labels = [\"Female\", \"Male\"]\n",
    "# The values of each section of the pie chart\n",
    "sizes = [49, 51]\n",
    "# The colors of each section of the pie chart\n",
    "colors = [\"violet\", \"deepskyblue\"]\n",
    "# Tell matplotlib to seperate the \"Male\" section from the others\n",
    "explode = (0, 0.1)\n",
    "\n",
    "# Creates the pie chart based upon the values above\n",
    "# Automatically finds the percentages of each part of the pie chart\n",
    "plt.pie(sizes, explode=explode, labels=labels, colors=colors,\n",
    "        autopct=\"%1.1f%%\", shadow=True, startangle=140)\n",
    "plt.title(\"Female vs Male Mice\")\n",
    "plt.ylabel(\"Sex\")\n",
    "plt.axis(\"equal\")\n",
    "plt.savefig(\"../Images/PieChartPyPlot.png\")\n",
    "plt.show()"
   ]
  },
  {
   "cell_type": "markdown",
   "metadata": {},
   "source": [
    "Quartiles, Outliers, and Boxplots"
   ]
  },
  {
   "cell_type": "markdown",
   "metadata": {},
   "source": [
    "Calculate the final tumor volume of each mouse across four of the treatment regimens:  \n",
    "Capomulin, Ramicane, Infubinol, and Ceftamin"
   ]
  },
  {
   "cell_type": "code",
   "execution_count": 14,
   "metadata": {
    "scrolled": false
   },
   "outputs": [],
   "source": [
    "#Filter data for treatment by Capomulin\n",
    "\n",
    "capomulin = clean_df.loc[clean_df['Drug Regimen'] == 'Capomulin', :]\n",
    "capomulin.head()\n",
    "\n",
    "# Start by getting the last (greatest) timepoint for each mouse\n",
    "\n",
    "lastctp = capomulin.groupby(\"Mouse ID\")[\"Timepoint\"].max()\n",
    "convert_df = pd.DataFrame(lastctp)\n",
    "\n",
    "#Merge this group df with the original dataframe to get the tumor volume at the last timepoint\n",
    "t_vol = pd.merge(convert_df, clean_df, on=(\"Mouse ID\", \"Timepoint\"), how = \"left\")"
   ]
  },
  {
   "cell_type": "code",
   "execution_count": 15,
   "metadata": {},
   "outputs": [],
   "source": [
    "#Apply the same methods used for drug regimen capomulin for ramicane\n",
    "ramican = clean_df.loc[clean_df['Drug Regimen'] == 'Ramicane', :]\n",
    "\n",
    "# Start by getting the last (greatest) timepoint for each mouse\n",
    "lastrtp = ramican.groupby(\"Mouse ID\")[\"Timepoint\"].max()\n",
    "convert_df2 = pd.DataFrame(lastrtp)\n",
    "\n",
    "#Merge this group df with the original dataframe to get the tumor volume at the last timepoint\n",
    "t_vol2 = pd.merge(convert_df2, clean_df, on=(\"Mouse ID\", \"Timepoint\"), how = \"left\")"
   ]
  },
  {
   "cell_type": "code",
   "execution_count": 16,
   "metadata": {},
   "outputs": [],
   "source": [
    "#Apply the same methods used for drug regimen capomulin for infubinol\n",
    "infubinol = clean_df.loc[clean_df['Drug Regimen'] == 'Infubinol', :]\n",
    "\n",
    "# Start by getting the last (greatest) timepoint for each mouse\n",
    "lastitp = infubinol.groupby(\"Mouse ID\")[\"Timepoint\"].max()\n",
    "convert_df3 = pd.DataFrame(lastitp)\n",
    "\n",
    "#Merge this group df with the original dataframe to get the tumor volume at the last timepoint\n",
    "t_vol3 = pd.merge(convert_df3, clean_df, on=(\"Mouse ID\", \"Timepoint\"), how = \"left\")"
   ]
  },
  {
   "cell_type": "code",
   "execution_count": 17,
   "metadata": {},
   "outputs": [],
   "source": [
    "#Apply the same methods used for drug regimen capomulin for ceftamin\n",
    "ceftamin = clean_df.loc[clean_df['Drug Regimen'] == 'Ceftamin', :]\n",
    "\n",
    "# Start by getting the last (greatest) timepoint for each mouse\n",
    "lastcetp = ceftamin.groupby(\"Mouse ID\")[\"Timepoint\"].max()\n",
    "convert_df4 = pd.DataFrame(lastcetp)\n",
    "\n",
    "#Merge this group df with the original dataframe to get the tumor volume at the last timepoint\n",
    "t_vol4 = pd.merge(convert_df4, clean_df, on=(\"Mouse ID\", \"Timepoint\"), how = \"left\")"
   ]
  },
  {
   "cell_type": "code",
   "execution_count": 18,
   "metadata": {
    "scrolled": true
   },
   "outputs": [
    {
     "name": "stdout",
     "output_type": "stream",
     "text": [
      "                      Lower Quartile  Upper Quartile       IQR\n",
      "Tumor Vol: Capomulin       32.377357        40.15922  7.781863\n",
      "                    Lower Quartile  Upper Quartile       IQR\n",
      "Tumor Vol: Ramican        31.56047       40.659006  9.098537\n",
      "                      Lower Quartile  Upper Quartile        IQR\n",
      "Tumor Vol: Infubinol       54.048608       65.525743  11.477135\n",
      "                     Lower Quartile  Upper Quartile        IQR\n",
      "Tumor Vol: Ceftamin       48.722078        64.29983  15.577752\n"
     ]
    }
   ],
   "source": [
    "# Calculate the IQR and quantitatively determine if there are any potential outliers. \n",
    "# Locate the rows which contain mice on each drug and get the tumor volumes# add subset \n",
    "\n",
    "tumor_cap = t_vol[\"Tumor Volume (mm3)\"]\n",
    "quartile_cap = tumor_cap.quantile([.25, .5, .75])\n",
    "lowerq = quartile_cap[0.25]\n",
    "upperq = quartile_cap[0.75]\n",
    "iqr = upperq-lowerq\n",
    "\n",
    "sum_cap_table = pd.DataFrame({\"Lower Quartile\": lowerq,\n",
    "                              \"Upper Quartile\": upperq,\n",
    "                              \"IQR\": iqr}, index=['Tumor Vol: Capomulin'])\n",
    "\n",
    "print(sum_cap_table)\n",
    "\n",
    "###############################Part 2#######################################\n",
    "\n",
    "#Ramican\n",
    "tumor_ram = t_vol2[\"Tumor Volume (mm3)\"]\n",
    "quartile_ram = tumor_ram.quantile([.25, .5, .75])\n",
    "lowerqr = quartile_ram[0.25]\n",
    "upperqr = quartile_ram[0.75]\n",
    "iqr_ram = upperqr-lowerqr\n",
    "\n",
    "sum_ram_table = pd.DataFrame({\"Lower Quartile\": lowerqr,\n",
    "                              \"Upper Quartile\": upperqr,\n",
    "                              \"IQR\": iqr_ram}, index=['Tumor Vol: Ramican'])\n",
    "print(sum_ram_table)\n",
    "\n",
    "################################Part 3#####################################\n",
    "\n",
    "#Infubinol\n",
    "tumor_i = t_vol3[\"Tumor Volume (mm3)\"]\n",
    "quartile_i = tumor_i.quantile([.25, .5, .75])\n",
    "lowerqi = quartile_i[0.25]\n",
    "upperqi = quartile_i[0.75]\n",
    "iqr_i = upperqi-lowerqi\n",
    "\n",
    "sum_i_table = pd.DataFrame({\"Lower Quartile\": lowerqi,\n",
    "                              \"Upper Quartile\": upperqi,\n",
    "                              \"IQR\": iqr_i}, index=['Tumor Vol: Infubinol'])\n",
    "print(sum_i_table)\n",
    "\n",
    "################################Part 4#####################################\n",
    "\n",
    "#Ceftamin\n",
    "tumor_cef = t_vol4[\"Tumor Volume (mm3)\"]\n",
    "quartile_cef = tumor_cef.quantile([.25, .5, .75])\n",
    "lowerqcef= quartile_cef[0.25]\n",
    "upperqcef = quartile_cef[0.75]\n",
    "iqr_cef = upperqcef-lowerqcef\n",
    "\n",
    "sum_cef_table = pd.DataFrame({\"Lower Quartile\": lowerqcef,\n",
    "                              \"Upper Quartile\": upperqcef,\n",
    "                              \"IQR\": iqr_cef}, index=['Tumor Vol: Ceftamin'])\n",
    "print(sum_cef_table)"
   ]
  },
  {
   "cell_type": "code",
   "execution_count": 19,
   "metadata": {},
   "outputs": [
    {
     "name": "stdout",
     "output_type": "stream",
     "text": [
      "                              Lower Bound  Upper Bound\n",
      "Possible Outliers: Capomulin    20.704562    51.832015\n",
      "                            Lower Bound  Upper Bound\n",
      "Possible Outliers: Ramican    17.912664    54.306811\n",
      "                              Lower Bound  Upper Bound\n",
      "Possible Outliers: Infubinol    36.832905    82.741446\n",
      "                             Lower Bound  Upper Bound\n",
      "Possible Outliers: Ceftamin     25.35545    87.666458\n"
     ]
    }
   ],
   "source": [
    "#Determine whether there are outliers present in the IQR by setting LB and UB for all drug regimens\n",
    "\n",
    "#Capomulin \n",
    "lower_bound1 = lowerq - (1.5*iqr)\n",
    "upper_bound1 = upperq + (1.5*iqr)\n",
    "\n",
    "outlier_cap = pd.DataFrame({\"Lower Bound\": lower_bound1,\n",
    "                            \"Upper Bound\": upper_bound1}, index=['Possible Outliers: Capomulin'])\n",
    "print(outlier_cap)\n",
    "\n",
    "###############################Part 2#######################################\n",
    "\n",
    "#Ramican\n",
    "lower_bound2 = lowerqr - (1.5*iqr_ram)\n",
    "upper_bound2 = upperqr + (1.5*iqr_ram)\n",
    "\n",
    "outlier_ram = pd.DataFrame({\"Lower Bound\": lower_bound2,\n",
    "                            \"Upper Bound\": upper_bound2}, index=['Possible Outliers: Ramican'])\n",
    "print(outlier_ram)\n",
    "\n",
    "###############################Part 3#######################################\n",
    "\n",
    "#Infubinol\n",
    "lower_bound3 = lowerqi - (1.5*iqr_i)\n",
    "upper_bound3 = upperqi + (1.5*iqr_i)\n",
    "\n",
    "outlier_i = pd.DataFrame({\"Lower Bound\": lower_bound3,\n",
    "                          \"Upper Bound\": upper_bound3}, index=['Possible Outliers: Infubinol'])\n",
    "print(outlier_i)\n",
    "\n",
    "###############################Part 4#######################################\n",
    "\n",
    "#Ceftamin\n",
    "lower_bound4 = lowerqcef - (1.5*iqr_cef)\n",
    "upper_bound4 = upperqcef + (1.5*iqr_cef)\n",
    "\n",
    "outlier_cef = pd.DataFrame({\"Lower Bound\": lower_bound4,\n",
    "                          \"Upper Bound\": upper_bound4}, index=['Possible Outliers: Ceftamin'])\n",
    "print(outlier_cef)"
   ]
  },
  {
   "cell_type": "markdown",
   "metadata": {},
   "source": [
    "Generate a box plot of the final tumor volume of each mouse across four regimens of interest."
   ]
  },
  {
   "cell_type": "code",
   "execution_count": 20,
   "metadata": {},
   "outputs": [
    {
     "data": {
      "image/png": "[encoded data removed]",
      "text/plain": [
       "<Figure size 432x288 with 1 Axes>"
      ]
     },
     "metadata": {
      "needs_background": "light"
     },
     "output_type": "display_data"
    }
   ],
   "source": [
    "#Want to show the final tumor volume, need to use variable that was set to filter out tumor volume\n",
    "\n",
    "fig1, ax1 = plt.subplots()\n",
    "ax1.set_title('Tumor Volume of Mice at Four Different Drug Regimens')\n",
    "ax1.set_xlabel('Drug Regimen')\n",
    "ax1.set_ylabel('Tumor Volume (3mm)')\n",
    "x_axis = [tumor_cap, tumor_ram, tumor_i, tumor_cef]\n",
    "bplot1 = ax1.boxplot(x_axis, vert=True, patch_artist=True, labels=[\"Capomulin\", \"Ramican\", \"Infubinol\", \"Ceftamin\"])\n",
    "\n",
    "# fill with colors\n",
    "colors = ['palevioletred', 'mintcream', 'aliceblue', 'lemonchiffon']\n",
    "for bplot in (bplot1):\n",
    "    for patch, color in zip(bplot1['boxes'], colors):\n",
    "        patch.set_facecolor(color)\n",
    "plt.savefig(\"../Images/BoxPlotAllDrugRegimens.png\")\n",
    "plt.show()"
   ]
  },
  {
   "cell_type": "markdown",
   "metadata": {},
   "source": [
    "Line and Scatter Plots"
   ]
  },
  {
   "cell_type": "markdown",
   "metadata": {},
   "source": [
    "Generate a line plot of tumor volume vs. time point for a mouse treated with Capomulin."
   ]
  },
  {
   "cell_type": "code",
   "execution_count": 21,
   "metadata": {
    "scrolled": true
   },
   "outputs": [
    {
     "data": {
      "image/png": "[encoded data removed]",
      "text/plain": [
       "<Figure size 432x288 with 1 Axes>"
      ]
     },
     "metadata": {
      "needs_background": "light"
     },
     "output_type": "display_data"
    }
   ],
   "source": [
    "#Pick one mouse from filtered capomulin data and isolate for that mouse ID\n",
    "filter_1mouse = capomulin.loc[clean_df['Mouse ID'] == 'b128', :]\n",
    "# filter_1mouse.head()\n",
    "\n",
    "#Set x-axis to Timepoint and y-axis to Tumor Volume\n",
    "lp_tum = filter_1mouse[\"Tumor Volume (mm3)\"]\n",
    "lp_time = filter_1mouse[\"Timepoint\"]\n",
    "plt.plot(lp_time.keys(), lp_tum, marker= \"*\", color=\"purple\")\n",
    "plt.title(\"Tumor Volume vs. Timepoint for Mouse b128: Capomulin\")\n",
    "plt.xlabel(\"Timepoint\")\n",
    "plt.ylabel(\"Tumor Vol (mm3)\")\n",
    "plt.savefig(\"../Images/LineChartMouseb128.png\")\n",
    "plt.show()"
   ]
  },
  {
   "cell_type": "markdown",
   "metadata": {},
   "source": [
    "Generate a scatter plot of average tumor volume vs. mouse weight for the Capomulin regimen."
   ]
  },
  {
   "cell_type": "code",
   "execution_count": 22,
   "metadata": {
    "scrolled": true
   },
   "outputs": [
    {
     "data": {
      "image/png": "[encoded data removed]",
      "text/plain": [
       "<Figure size 432x288 with 1 Axes>"
      ]
     },
     "metadata": {
      "needs_background": "light"
     },
     "output_type": "display_data"
    }
   ],
   "source": [
    "#NOTE: Do I need to apploy a filter, then groupby, then take the average of the groupby?\n",
    "\n",
    "#Use groupby on filtered data for capomulin drug regimen and find the average\n",
    "groupby_avg = capomulin.groupby(['Mouse ID']).mean()\n",
    "\n",
    "#Set the x-axis to weight data and the y-axis to the average tumor volume\n",
    "sp_weight = groupby_avg['Weight (g)']\n",
    "sp_tum = groupby_avg['Tumor Volume (mm3)']\n",
    "plt.scatter(sp_weight, sp_tum, marker=\"o\", facecolors=\"cyan\", edgecolors=\"black\")\n",
    "plt.title(\"Avg Tumor Volume vs. Weight of Mouse: Capomulin\")\n",
    "plt.xlabel(\"Mouse Weight (g)\")\n",
    "plt.ylabel(\"Avg Tumor Vol (mm3)\")\n",
    "plt.savefig(\"../Images/ScatterPlotCap.png\")\n",
    "plt.show()"
   ]
  },
  {
   "cell_type": "markdown",
   "metadata": {},
   "source": [
    "Correlation and Regression"
   ]
  },
  {
   "cell_type": "markdown",
   "metadata": {},
   "source": [
    "Calculate the correlation coefficient and linear regression model for mouse weight and average tumor volume for the Capomulin regimen."
   ]
  },
  {
   "cell_type": "code",
   "execution_count": 23,
   "metadata": {},
   "outputs": [
    {
     "name": "stdout",
     "output_type": "stream",
     "text": [
      "The correlation coefficient between tumor volume and mouse weight is 0.84\n",
      "The r-squared is: 0.7088568047708717\n"
     ]
    },
    {
     "data": {
      "image/png": "[encoded data removed]",
      "text/plain": [
       "<Figure size 432x288 with 1 Axes>"
      ]
     },
     "metadata": {
      "needs_background": "light"
     },
     "output_type": "display_data"
    }
   ],
   "source": [
    "# Add the linear regression equation and line to plot to scatter plot from above\n",
    "\n",
    "(slope, intercept, rvalue, pvalue, stderr) = linregress(sp_weight, sp_tum)\n",
    "regress_values = sp_weight * slope + intercept\n",
    "line_eq = \"y = \" + str(round(slope,2)) + \"x + \" + str(round(intercept,2))\n",
    "plt.plot(sp_weight,regress_values,\"r-\")\n",
    "plt.scatter(sp_weight, sp_tum, marker=\"o\", facecolors=\"cyan\", edgecolors=\"black\")\n",
    "plt.title(\"Avg Tumor Volume vs. Weight of Mouse: Capomulin\")\n",
    "plt.xlabel(\"Mouse Weight (g)\")\n",
    "plt.ylabel(\"Avg Tumor Vol (mm3)\")\n",
    "plt.annotate(line_eq,(19,35),fontsize=15,color=\"red\")\n",
    "print(f\"The correlation coefficient between tumor volume and mouse weight is {round(st.pearsonr(sp_weight,sp_tum)[0],2)}\")\n",
    "print(f\"The r-squared is: {rvalue**2}\")\n",
    "plt.savefig(\"../Images/ScatterPlotCapwithLinearRegression.png\")\n",
    "plt.show()"
   ]
  }
 ],
 "metadata": {
  "kernelspec": {
   "display_name": "Python 3",
   "language": "python",
   "name": "python3"
  },
  "language_info": {
   "codemirror_mode": {
    "name": "ipython",
    "version": 3
   },
   "file_extension": ".py",
   "mimetype": "text/x-python",
   "name": "python",
   "nbconvert_exporter": "python",
   "pygments_lexer": "ipython3",
   "version": "3.9.1"
  }
 },
 "nbformat": 4,
 "nbformat_minor": 4
}
